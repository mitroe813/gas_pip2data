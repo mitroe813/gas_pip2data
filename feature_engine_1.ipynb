{
 "cells": [
  {
   "cell_type": "code",
   "execution_count": 1,
   "id": "c1907fe1",
   "metadata": {},
   "outputs": [],
   "source": [
    "import matplotlib.pyplot as plt\n",
    "\n",
    "plt.rc('font', size=14)\n",
    "plt.rc('axes', labelsize=14, titlesize=14)\n",
    "plt.rc('legend', fontsize=14)\n",
    "plt.rc('xtick', labelsize=10)\n",
    "plt.rc('ytick', labelsize=10)"
   ]
  },
  {
   "cell_type": "code",
   "execution_count": 2,
   "id": "ed087415",
   "metadata": {},
   "outputs": [],
   "source": [
    "from pathlib import Path\n",
    "\n",
    "IMAGES_PATH = Path() / \"images\" / \"decision_trees\"\n",
    "IMAGES_PATH.mkdir(parents=True, exist_ok=True)\n",
    "\n",
    "def save_fig(fig_id, tight_layout=True, fig_extension=\"png\", resolution=300):\n",
    "    path = IMAGES_PATH / f\"{fig_id}.{fig_extension}\"\n",
    "    if tight_layout:\n",
    "        plt.tight_layout()\n",
    "    plt.savefig(path, format=fig_extension, dpi=resolution)"
   ]
  },
  {
   "cell_type": "code",
   "execution_count": 3,
   "id": "a2335329",
   "metadata": {
    "scrolled": false
   },
   "outputs": [
    {
     "name": "stdout",
     "output_type": "stream",
     "text": [
      "(675, 152)\n",
      "0        NaN\n",
      "1      09:04\n",
      "2      02:52\n",
      "3      10:08\n",
      "4      06:40\n",
      "       ...  \n",
      "670     6:24\n",
      "671     2:59\n",
      "672     7:52\n",
      "673     3:11\n",
      "674    12:01\n",
      "Name: 内检测信号上识别的上游制管焊缝与环焊缝交点的时钟位置, Length: 675, dtype: object\n"
     ]
    }
   ],
   "source": [
    "import pandas as pd\n",
    "\n",
    "# 读取 Excel 文件\n",
    "processed_data = pd.read_excel('删除日期与进一步处理数据后.xlsx')\n",
    "\n",
    "# 删除所有列中的 @ 字符\n",
    "processed_data = processed_data.replace('@', '', regex=True)\n",
    "\n",
    "# 显示特定列\n",
    "column_name = \"内检测信号上识别的上游制管焊缝与环焊缝交点的时钟位置\"\n",
    "selected_column = processed_data[column_name]\n",
    "\n",
    "# 找出列名称含有特定字符串的列\n",
    "columns_with_keyword = [col for col in processed_data.columns if '时钟' in col]\n",
    "\n",
    "# 输出选定列的数据\n",
    "print(processed_data.shape)\n",
    "print(selected_column)\n"
   ]
  },
  {
   "cell_type": "code",
   "execution_count": 4,
   "id": "b909fd94",
   "metadata": {},
   "outputs": [
    {
     "name": "stdout",
     "output_type": "stream",
     "text": [
      "内检测信号上识别的上游制管焊缝与环焊缝交点的时钟位置\n",
      "内检测信号上识别的下游制管焊缝与环焊缝交点的时钟位置\n"
     ]
    }
   ],
   "source": [
    "# 输出找到的列\n",
    "for col in columns_with_keyword:\n",
    "    print(col)"
   ]
  },
  {
   "cell_type": "markdown",
   "id": "badfa7f1",
   "metadata": {},
   "source": [
    "### 时钟转换角度\n",
    "\n",
    "这段代码实现了一个函数 `convert_clock_to_angle`，该函数将输入的时钟格式表示（例如\"12:30\"）转换为角度表示。然后，该函数应用于指定的列，并将转换后的结果添加到DataFrame中。\n",
    "\n",
    "具体解释如下：\n",
    "\n",
    "1. `def convert_clock_to_angle(clock_str):`：定义一个名为 `convert_clock_to_angle` 的函数，接受一个表示时钟的字符串作为输入。\n",
    "\n",
    "2. `if pd.isna(clock_str):`：检查输入的时钟字符串是否为 NaN（缺失值）。\n",
    "\n",
    "3. `clock_str = clock_str.split(';')[0]`：将输入的时钟字符串按分号分割，然后选择分割后的第一个部分，以处理可能存在的多个时钟值。\n",
    "\n",
    "4. `hrs, mins = map(int, clock_str.split(':'))`：将时钟字符串按冒号分割，然后将小时和分钟部分分别转换为整数。\n",
    "\n",
    "5. `angle = hrs * 30 + mins * 0.5`：根据时钟的小时和分钟部分计算角度，其中小时部分对应 30 度，分钟部分对应 0.5 度。\n",
    "\n",
    "6. `return angle`：返回计算得到的角度值。\n",
    "\n",
    "7. `clock_cols = [...`：定义了一个列表 `clock_cols`，其中包含需要应用函数的列名。\n",
    "\n",
    "8. `for col in clock_cols:`：遍历 `clock_cols` 列表中的每个列名。\n",
    "\n",
    "9. `df[col + \" (角度)\"] = df[col].apply(convert_clock_to_angle)`：将函数 `convert_clock_to_angle` 应用于指定的列 `col`，并将转换后的角度值添加到DataFrame中，列名后缀为 \"(角度)\"。\n",
    "\n",
    "总的来说，这段代码实现了将时钟格式转换为角度格式，并将转换后的角度值添加到DataFrame中，以便后续分析和处理。请确保替换变量名和列名为你实际的数据和列名。"
   ]
  },
  {
   "cell_type": "code",
   "execution_count": 5,
   "id": "a5857207",
   "metadata": {},
   "outputs": [
    {
     "name": "stdout",
     "output_type": "stream",
     "text": [
      "(675, 152)\n"
     ]
    }
   ],
   "source": [
    "# Function to convert clock format to angle\n",
    "def convert_clock_to_angle(clock_str):\n",
    "    # Handle NaN values\n",
    "    if pd.isna(clock_str):\n",
    "        return clock_str\n",
    "    else:\n",
    "        clock_str = clock_str.split(';')[0]  # Take the first part before the \";\"\n",
    "        hrs, mins = map(int, clock_str.split(':'))  # Split the time into hours and minutes\n",
    "        angle = hrs * 30 + mins * 0.5  # Convert to angle\n",
    "        return angle\n",
    "\n",
    "# Apply the function and overwrite the original columns\n",
    "clock_cols = [\"内检测信号上识别的上游制管焊缝与环焊缝交点的时钟位置\",\n",
    "              \"内检测信号上识别的下游制管焊缝与环焊缝交点的时钟位置\"]\n",
    "for col in clock_cols:\n",
    "    processed_data[col] = processed_data[col].apply(convert_clock_to_angle)\n",
    "\n",
    "# 保存修改后的数据到新的 Excel 文件\n",
    "processed_data.to_excel('角度转换后.xlsx', index=False)\n",
    "print(processed_data.shape)"
   ]
  },
  {
   "cell_type": "code",
   "execution_count": 6,
   "id": "080e2057",
   "metadata": {},
   "outputs": [
    {
     "name": "stdout",
     "output_type": "stream",
     "text": [
      "     内检测信号上识别的上游制管焊缝与环焊缝交点的时钟位置  内检测信号上识别的下游制管焊缝与环焊缝交点的时钟位置\n",
      "0                           NaN                       262.0\n",
      "1                         272.0                       184.0\n",
      "2                          86.0                       235.0\n",
      "3                         304.0                        30.0\n",
      "4                         200.0                       341.0\n",
      "..                          ...                         ...\n",
      "670                       192.0                        89.5\n",
      "671                        89.5                       271.0\n",
      "672                       236.0                       107.0\n",
      "673                        95.5                       370.5\n",
      "674                       360.5                       282.0\n",
      "\n",
      "[675 rows x 2 columns]\n"
     ]
    }
   ],
   "source": [
    "# 输出指定的两列\n",
    "clock_cols = [\"内检测信号上识别的上游制管焊缝与环焊缝交点的时钟位置\",\n",
    "              \"内检测信号上识别的下游制管焊缝与环焊缝交点的时钟位置\"]\n",
    "selected_columns = processed_data[clock_cols]\n",
    "\n",
    "# 打印选定列的数据\n",
    "print(selected_columns)"
   ]
  },
  {
   "cell_type": "markdown",
   "id": "eed3deb2",
   "metadata": {},
   "source": [
    "# 选择列数据类型\n",
    "1、先输出每列数据类型/type1 \n",
    "\n",
    "2、寻找输出项并提取/\n",
    "\n",
    "3、更改确认每列的数据类型是否合适/type2\n",
    "\n",
    "4、对比type1和type2差异并输出/"
   ]
  },
  {
   "cell_type": "code",
   "execution_count": 7,
   "id": "b7eeaa6e",
   "metadata": {},
   "outputs": [],
   "source": [
    "\n",
    "# type1保存每列修改前的数据类型\n",
    "type1 = {col: str(dtype) for col, dtype in processed_data.dtypes.items()}\n"
   ]
  },
  {
   "cell_type": "code",
   "execution_count": 8,
   "id": "9b4fff5e",
   "metadata": {},
   "outputs": [
    {
     "name": "stdout",
     "output_type": "stream",
     "text": [
      "0      1\n",
      "1      0\n",
      "2      1\n",
      "3      0\n",
      "4      1\n",
      "      ..\n",
      "670    0\n",
      "671    1\n",
      "672    1\n",
      "673    1\n",
      "674    1\n",
      "Name: 复拍总结果, Length: 675, dtype: int64\n"
     ]
    }
   ],
   "source": [
    "# 将 \"不合格\" 改为 0，\"合格\" 改为 1\n",
    "processed_data[\"复拍总结果\"] = processed_data[\"复拍总结果\"].apply(lambda x: 0 if x == \"不合格\" else 1)\n",
    "\n",
    "# 输出修改后的 \"复拍总结果\" 列\n",
    "print(processed_data[\"复拍总结果\"])"
   ]
  },
  {
   "cell_type": "code",
   "execution_count": 9,
   "id": "2a1d28b4",
   "metadata": {},
   "outputs": [
    {
     "name": "stdout",
     "output_type": "stream",
     "text": [
      "(675, 146)\n"
     ]
    }
   ],
   "source": [
    "# 从原数据中删除“施工记录下游管节管径”，“射线检测_一次透照长度MM“，“内检测环焊缝编号”，“内检测弯头弯管角度”，”内检测下游管节管径“，列\n",
    "# 要删除的列名称列表\n",
    "columns_to_remove = [\"施工记录下游管节管径\",\n",
    "                     \"射线检测_一次透照长度MM\",\n",
    "                     \"内检测环焊缝编号\",\n",
    "                     \"内检测弯头弯管角度\",\n",
    "                     \"内检测下游管节管径\",\n",
    "                     \"未回填密实的管道悬空长度/米\"]\n",
    "\n",
    "# 从原数据中删除指定列\n",
    "processed_data.drop(columns=columns_to_remove, inplace=True)\n",
    "print(processed_data.shape)\n"
   ]
  },
  {
   "cell_type": "code",
   "execution_count": 10,
   "id": "1ef8ee6f",
   "metadata": {},
   "outputs": [
    {
     "name": "stdout",
     "output_type": "stream",
     "text": [
      "(675, 146)\n"
     ]
    }
   ],
   "source": [
    "# 在原数据中更改“射线检测_像质指数”，“施工期评定等级”，“射线检测_排查期复评等级”，“变壁厚“”返修“”弯头“”FT“”T“”无“”多“”焊口特征数量”\n",
    "# 将他们的数据类型从 float64改为 object\n",
    "\n",
    "\n",
    "# 读取 Excel 文件\n",
    "# processed_data = pd.read_excel('删除日期与进一步处理数据后.xlsx')\n",
    "\n",
    "# 要更改数据类型的列名称列表\n",
    "columns_to_convert = [\"射线检测_像质指数\",\n",
    "                     \"施工期评定等级\",\n",
    "                     \"射线检测_排查期复评等级\",\n",
    "                     \"变壁厚\",\n",
    "                     \"返修\",\n",
    "                     \"弯头\",\n",
    "                     \"FT\",\n",
    "                     \"T\",\n",
    "                     \"无\",\n",
    "                     \"多\",\n",
    "                     \"焊口特征数量\",]\n",
    "\n",
    "# 将指定列的数据类型从 float64 改为 object\n",
    "processed_data[columns_to_convert] = processed_data[columns_to_convert].astype('object')\n",
    "\n",
    "# type2保存每列修改后的数据类型\n",
    "type2 = {col: str(dtype) for col, dtype in processed_data.dtypes.items()}\n",
    "\n",
    "# 对比type1和type2，输出不同的内容\n",
    "# for col in type1.keys():\n",
    "#    if type2[col] != type1[col]:\n",
    "#        print(f\"Column '{col}': 从 {type1[col]} 变为 {type2[col]}\")\n",
    "print(processed_data.shape)"
   ]
  },
  {
   "cell_type": "markdown",
   "id": "3c911ca3",
   "metadata": {},
   "source": [
    "## 独立热编码前最后确认\n",
    "\n",
    "### 确认object类型的列数据"
   ]
  },
  {
   "cell_type": "code",
   "execution_count": 11,
   "id": "90bf4e53",
   "metadata": {},
   "outputs": [],
   "source": [
    "object_columns_data = processed_data.select_dtypes(include=['object'])\n",
    "object_columns_data.to_excel('object类型的数据确认表.xlsx',index=False)"
   ]
  },
  {
   "cell_type": "markdown",
   "id": "077c5f1e",
   "metadata": {},
   "source": [
    "### 热独立编码\n",
    "1、将processed_data中所有的object数据类型的列进行热独编码并删除原有的列/\n",
    "\n",
    "2、将y_data进行热独立编码并覆盖原有列\n"
   ]
  },
  {
   "cell_type": "code",
   "execution_count": 12,
   "id": "375f9e07",
   "metadata": {},
   "outputs": [
    {
     "name": "stdout",
     "output_type": "stream",
     "text": [
      "(107,)\n",
      "   施工记录弯头弯管角度  施工记录下游管节长度  施工记录下游管节壁厚  底片上识别的焊缝交点的间距MM  检测单位记录的壁厚1(MM)  \\\n",
      "0         NaN      10.300        14.6              NaN            14.6   \n",
      "1         NaN      12.140        17.5              NaN            14.6   \n",
      "2        29.0      12.075        17.5              NaN            14.6   \n",
      "3         NaN       3.000        14.6              NaN            14.6   \n",
      "4        23.0       4.300        17.5              NaN            14.6   \n",
      "\n",
      "   检测单位记录的壁厚2(MM)       内检测里程  内检测下游管节长度  内检测下游管节壁厚  相对上游参考点距离(M)  ...  无_2.0  \\\n",
      "0            14.6   74120.832      5.684       17.5           NaN  ...      0   \n",
      "1            14.6  149855.276     12.179       17.5           NaN  ...      0   \n",
      "2            17.5   29859.214     12.154       17.5        47.806  ...      0   \n",
      "3            14.6   37683.523      3.641       17.5           NaN  ...      0   \n",
      "4            14.6   69656.244      4.327       17.5           NaN  ...      0   \n",
      "\n",
      "   多_0.0  多_1.0  多_2.0  多_4.0  焊口特征数量_0.0  焊口特征数量_1.0  焊口特征数量_2.0  焊口特征数量_3.0  \\\n",
      "0      0      0      0      0           0           0           0           0   \n",
      "1      0      0      0      0           0           0           0           0   \n",
      "2      0      0      0      0           0           0           0           0   \n",
      "3      0      0      0      0           0           0           0           0   \n",
      "4      0      0      1      0           0           0           0           0   \n",
      "\n",
      "   焊口特征数量_4.0  \n",
      "0           0  \n",
      "1           0  \n",
      "2           0  \n",
      "3           0  \n",
      "4           0  \n",
      "\n",
      "[5 rows x 591 columns]\n",
      "(675, 591)\n"
     ]
    }
   ],
   "source": [
    "# 获取 object 类型的列\n",
    "object_columns = processed_data.select_dtypes(include=['object']).columns\n",
    "\n",
    "print(object_columns.shape)\n",
    "# 进行热独编码\n",
    "encoded_data = pd.get_dummies(processed_data, columns=object_columns)\n",
    "\n",
    "# 输出编码后的数据\n",
    "print(encoded_data.head())\n",
    "\n",
    "# 保存编码后的数据到新的 Excel 文件\n",
    "encoded_data.to_excel('热独编码后的数据.xlsx', index=False)\n",
    "print(encoded_data.shape)"
   ]
  },
  {
   "cell_type": "code",
   "execution_count": 5,
   "id": "45a79d15",
   "metadata": {},
   "outputs": [],
   "source": [
    "import pandas as pd\n",
    "encoded_data = pd.read_excel('../0823_model/drop_encoded_data.xlsx')"
   ]
  },
  {
   "cell_type": "markdown",
   "id": "20e50873",
   "metadata": {},
   "source": [
    "## 处理nan值\n",
    "\n",
    "错误提示显示你的输入数据 `X_iris` 中含有 NaN 值，而 `DecisionTreeClassifier` 并不直接支持处理 NaN 值。你需要在输入数据中处理 NaN 值，可以考虑以下几种方法：\n",
    "\n",
    "1. **删除包含 NaN 的行**: 可以使用 `dropna()` 函数删除包含 NaN 值的行。\n",
    "2. **填充 NaN 值**: 使用 `fillna()` 函数将 NaN 值填充为特定的值，例如均值、中位数或零。\n",
    "3. **使用 Imputer 进行预处理**: 使用 `sklearn.impute.SimpleImputer` 类来对 NaN 值进行填充，然后再传入分类器。\n",
    "4. **尝试其他模型**: 如果你的数据中存在 NaN 值，你也可以尝试使用能够处理 NaN 值的其他模型，如 `HistGradientBoostingClassifier` 或 `HistGradientBoostingRegressor`。\n",
    "\n",
    "### 填充 NaN 值: 使用 fillna() 函数将 NaN 值填充为特定的值零。"
   ]
  },
  {
   "cell_type": "markdown",
   "id": "720e2d8c",
   "metadata": {},
   "source": [
    "# 训练和可视化决策树"
   ]
  },
  {
   "cell_type": "code",
   "execution_count": 21,
   "id": "701c38b0",
   "metadata": {},
   "outputs": [
    {
     "data": {
      "text/html": [
       "<style>#sk-container-id-7 {color: black;background-color: white;}#sk-container-id-7 pre{padding: 0;}#sk-container-id-7 div.sk-toggleable {background-color: white;}#sk-container-id-7 label.sk-toggleable__label {cursor: pointer;display: block;width: 100%;margin-bottom: 0;padding: 0.3em;box-sizing: border-box;text-align: center;}#sk-container-id-7 label.sk-toggleable__label-arrow:before {content: \"▸\";float: left;margin-right: 0.25em;color: #696969;}#sk-container-id-7 label.sk-toggleable__label-arrow:hover:before {color: black;}#sk-container-id-7 div.sk-estimator:hover label.sk-toggleable__label-arrow:before {color: black;}#sk-container-id-7 div.sk-toggleable__content {max-height: 0;max-width: 0;overflow: hidden;text-align: left;background-color: #f0f8ff;}#sk-container-id-7 div.sk-toggleable__content pre {margin: 0.2em;color: black;border-radius: 0.25em;background-color: #f0f8ff;}#sk-container-id-7 input.sk-toggleable__control:checked~div.sk-toggleable__content {max-height: 200px;max-width: 100%;overflow: auto;}#sk-container-id-7 input.sk-toggleable__control:checked~label.sk-toggleable__label-arrow:before {content: \"▾\";}#sk-container-id-7 div.sk-estimator input.sk-toggleable__control:checked~label.sk-toggleable__label {background-color: #d4ebff;}#sk-container-id-7 div.sk-label input.sk-toggleable__control:checked~label.sk-toggleable__label {background-color: #d4ebff;}#sk-container-id-7 input.sk-hidden--visually {border: 0;clip: rect(1px 1px 1px 1px);clip: rect(1px, 1px, 1px, 1px);height: 1px;margin: -1px;overflow: hidden;padding: 0;position: absolute;width: 1px;}#sk-container-id-7 div.sk-estimator {font-family: monospace;background-color: #f0f8ff;border: 1px dotted black;border-radius: 0.25em;box-sizing: border-box;margin-bottom: 0.5em;}#sk-container-id-7 div.sk-estimator:hover {background-color: #d4ebff;}#sk-container-id-7 div.sk-parallel-item::after {content: \"\";width: 100%;border-bottom: 1px solid gray;flex-grow: 1;}#sk-container-id-7 div.sk-label:hover label.sk-toggleable__label {background-color: #d4ebff;}#sk-container-id-7 div.sk-serial::before {content: \"\";position: absolute;border-left: 1px solid gray;box-sizing: border-box;top: 0;bottom: 0;left: 50%;z-index: 0;}#sk-container-id-7 div.sk-serial {display: flex;flex-direction: column;align-items: center;background-color: white;padding-right: 0.2em;padding-left: 0.2em;position: relative;}#sk-container-id-7 div.sk-item {position: relative;z-index: 1;}#sk-container-id-7 div.sk-parallel {display: flex;align-items: stretch;justify-content: center;background-color: white;position: relative;}#sk-container-id-7 div.sk-item::before, #sk-container-id-7 div.sk-parallel-item::before {content: \"\";position: absolute;border-left: 1px solid gray;box-sizing: border-box;top: 0;bottom: 0;left: 50%;z-index: -1;}#sk-container-id-7 div.sk-parallel-item {display: flex;flex-direction: column;z-index: 1;position: relative;background-color: white;}#sk-container-id-7 div.sk-parallel-item:first-child::after {align-self: flex-end;width: 50%;}#sk-container-id-7 div.sk-parallel-item:last-child::after {align-self: flex-start;width: 50%;}#sk-container-id-7 div.sk-parallel-item:only-child::after {width: 0;}#sk-container-id-7 div.sk-dashed-wrapped {border: 1px dashed gray;margin: 0 0.4em 0.5em 0.4em;box-sizing: border-box;padding-bottom: 0.4em;background-color: white;}#sk-container-id-7 div.sk-label label {font-family: monospace;font-weight: bold;display: inline-block;line-height: 1.2em;}#sk-container-id-7 div.sk-label-container {text-align: center;}#sk-container-id-7 div.sk-container {/* jupyter's `normalize.less` sets `[hidden] { display: none; }` but bootstrap.min.css set `[hidden] { display: none !important; }` so we also need the `!important` here to be able to override the default hidden behavior on the sphinx rendered scikit-learn.org. See: https://github.com/scikit-learn/scikit-learn/issues/21755 */display: inline-block !important;position: relative;}#sk-container-id-7 div.sk-text-repr-fallback {display: none;}</style><div id=\"sk-container-id-7\" class=\"sk-top-container\"><div class=\"sk-text-repr-fallback\"><pre>DecisionTreeClassifier(max_depth=3, random_state=43)</pre><b>In a Jupyter environment, please rerun this cell to show the HTML representation or trust the notebook. <br />On GitHub, the HTML representation is unable to render, please try loading this page with nbviewer.org.</b></div><div class=\"sk-container\" hidden><div class=\"sk-item\"><div class=\"sk-estimator sk-toggleable\"><input class=\"sk-toggleable__control sk-hidden--visually\" id=\"sk-estimator-id-7\" type=\"checkbox\" checked><label for=\"sk-estimator-id-7\" class=\"sk-toggleable__label sk-toggleable__label-arrow\">DecisionTreeClassifier</label><div class=\"sk-toggleable__content\"><pre>DecisionTreeClassifier(max_depth=3, random_state=43)</pre></div></div></div></div></div>"
      ],
      "text/plain": [
       "DecisionTreeClassifier(max_depth=3, random_state=43)"
      ]
     },
     "execution_count": 21,
     "metadata": {},
     "output_type": "execute_result"
    }
   ],
   "source": [
    "from sklearn.tree import DecisionTreeClassifier\n",
    "\n",
    "iris = encoded_data\n",
    "\n",
    "y_iris = encoded_data[\"复拍总结果\"]\n",
    "\n",
    "# 将 encoded_data 的除去 \"复拍总结果\" 列的其余列载入其中\n",
    "X_iris = encoded_data.drop(columns=[\"复拍总结果\"])\n",
    "\n",
    "# 先将 NaN 值填充为零\n",
    "X_iris_filled = X_iris.fillna(0)\n",
    "\n",
    "# 创建 DecisionTreeClassifier\n",
    "tree_clf = DecisionTreeClassifier(max_depth=3, random_state=43)\n",
    "\n",
    "# 拟合模型\n",
    "tree_clf.fit(X_iris_filled, y_iris)"
   ]
  },
  {
   "cell_type": "markdown",
   "id": "cdd1b889",
   "metadata": {},
   "source": [
    "这段代码是一个示例，用于使用决策树分类器对鸢尾花数据集进行分类。\n",
    "\n",
    "1. 导入必要的库：\n",
    "   - `from sklearn.datasets import load_iris`：导入了 Scikit-learn 库中的 `load_iris` 函数，用于加载鸢尾花数据集。\n",
    "   - `from sklearn.tree import DecisionTreeClassifier`：导入了 Scikit-learn 库中的决策树分类器类 `DecisionTreeClassifier`。\n",
    "\n",
    "2. 加载数据集：\n",
    "   - `iris = load_iris(as_frame=True)`：使用 `load_iris` 函数加载数据集，并通过参数 `as_frame=True` 返回一个 Pandas DataFrame 格式的数据集。\n",
    "   \n",
    "3. 准备特征和标签数据：\n",
    "   - `X_iris = iris.data[[\"petal length (cm)\", \"petal width (cm)\"]].values`：从数据集的 DataFrame 中选择了两个特征列 \"petal length (cm)\" 和 \"petal width (cm)\"，然后通过 `.values` 将其转换为 NumPy 数组，作为特征矩阵 `X_iris`。\n",
    "   - `y_iris = iris.target`：将数据集中的目标标签作为标签向量 `y_iris`。\n",
    "\n",
    "4. 创建和拟合决策树分类器：\n",
    "   - `tree_clf = DecisionTreeClassifier(max_depth=2, random_state=42)`：创建了一个决策树分类器对象 `tree_clf`，限定树的最大深度为 2，并设置了随机种子为 42。\n",
    "   - `tree_clf.fit(X_iris, y_iris)`：使用特征矩阵 `X_iris` 和标签向量 `y_iris` 对决策树分类器进行训练，即拟合模型。\n",
    "\n",
    "总结：该代码片段演示了如何加载数据集，选择特定特征用于分类任务，然后使用决策树分类器对数据进行分类训练。通过限制树的深度，可以控制模型的复杂度，以避免过拟合。"
   ]
  },
  {
   "cell_type": "markdown",
   "id": "01a54b51",
   "metadata": {},
   "source": [
    "## 类别不平衡处理:使用加权梯度提升决策树算法以平衡不同类别样本。\n",
    "[4] Weighted Gradient Boosting Decision Trees (AAAI 2019)"
   ]
  },
  {
   "cell_type": "markdown",
   "id": "cd9a4364",
   "metadata": {},
   "source": [
    "要在已有的代码基础上使用加权梯度提升决策树算法来处理类别不平衡问题，你可以采用`class_weight`参数来调整样本权重，以便更关注少数类别。以下是如何在你的代码中添加这些步骤：\n",
    "\n",
    "```python\n",
    "from sklearn.ensemble import GradientBoostingClassifier\n",
    "\n",
    "# 创建GradientBoostingClassifier\n",
    "gb_clf = GradientBoostingClassifier(n_estimators=100, max_depth=10, random_state=50)\n",
    "\n",
    "# 计算样本权重，将不同类别的样本赋予不同的权重\n",
    "class_weights = {0: 1, 1: 10}  # 这里的权重需要根据实际情况进行调整\n",
    "\n",
    "# 拟合模型，并传入样本权重\n",
    "gb_clf.fit(X_iris_filled, y_iris, sample_weight=[class_weights[y] for y in y_iris])\n",
    "\n",
    "```\n",
    "\n",
    "在这个代码中，我用`GradientBoostingClassifier`替代了`DecisionTreeClassifier`，并设置了`class_weight=\"balanced\"`。这会根据类别的频率自动为每个类别分配权重，以平衡不同类别之间的影响。\n",
    "\n",
    "请注意，`GradientBoostingClassifier`在解决类别不平衡问题时通常表现得更好，因为它可以逐步调整模型以更好地拟合少数类别。但是，它也可能需要更多的调参来达到最佳性能。你可能需要尝试不同的超参数组合，如`n_estimators`、`max_depth`等，以获得最佳的模型性能。\n",
    "\n",
    "另外，你还可以考虑其他处理类别不平衡问题的方法，比如欠采样、过采样、SMOTE等，以及不同的性能指标，如精确度、召回率、F1分数等，来评估模型的性能。"
   ]
  },
  {
   "cell_type": "code",
   "execution_count": 22,
   "id": "0b1b2283",
   "metadata": {},
   "outputs": [
    {
     "data": {
      "text/html": [
       "<style>#sk-container-id-8 {color: black;background-color: white;}#sk-container-id-8 pre{padding: 0;}#sk-container-id-8 div.sk-toggleable {background-color: white;}#sk-container-id-8 label.sk-toggleable__label {cursor: pointer;display: block;width: 100%;margin-bottom: 0;padding: 0.3em;box-sizing: border-box;text-align: center;}#sk-container-id-8 label.sk-toggleable__label-arrow:before {content: \"▸\";float: left;margin-right: 0.25em;color: #696969;}#sk-container-id-8 label.sk-toggleable__label-arrow:hover:before {color: black;}#sk-container-id-8 div.sk-estimator:hover label.sk-toggleable__label-arrow:before {color: black;}#sk-container-id-8 div.sk-toggleable__content {max-height: 0;max-width: 0;overflow: hidden;text-align: left;background-color: #f0f8ff;}#sk-container-id-8 div.sk-toggleable__content pre {margin: 0.2em;color: black;border-radius: 0.25em;background-color: #f0f8ff;}#sk-container-id-8 input.sk-toggleable__control:checked~div.sk-toggleable__content {max-height: 200px;max-width: 100%;overflow: auto;}#sk-container-id-8 input.sk-toggleable__control:checked~label.sk-toggleable__label-arrow:before {content: \"▾\";}#sk-container-id-8 div.sk-estimator input.sk-toggleable__control:checked~label.sk-toggleable__label {background-color: #d4ebff;}#sk-container-id-8 div.sk-label input.sk-toggleable__control:checked~label.sk-toggleable__label {background-color: #d4ebff;}#sk-container-id-8 input.sk-hidden--visually {border: 0;clip: rect(1px 1px 1px 1px);clip: rect(1px, 1px, 1px, 1px);height: 1px;margin: -1px;overflow: hidden;padding: 0;position: absolute;width: 1px;}#sk-container-id-8 div.sk-estimator {font-family: monospace;background-color: #f0f8ff;border: 1px dotted black;border-radius: 0.25em;box-sizing: border-box;margin-bottom: 0.5em;}#sk-container-id-8 div.sk-estimator:hover {background-color: #d4ebff;}#sk-container-id-8 div.sk-parallel-item::after {content: \"\";width: 100%;border-bottom: 1px solid gray;flex-grow: 1;}#sk-container-id-8 div.sk-label:hover label.sk-toggleable__label {background-color: #d4ebff;}#sk-container-id-8 div.sk-serial::before {content: \"\";position: absolute;border-left: 1px solid gray;box-sizing: border-box;top: 0;bottom: 0;left: 50%;z-index: 0;}#sk-container-id-8 div.sk-serial {display: flex;flex-direction: column;align-items: center;background-color: white;padding-right: 0.2em;padding-left: 0.2em;position: relative;}#sk-container-id-8 div.sk-item {position: relative;z-index: 1;}#sk-container-id-8 div.sk-parallel {display: flex;align-items: stretch;justify-content: center;background-color: white;position: relative;}#sk-container-id-8 div.sk-item::before, #sk-container-id-8 div.sk-parallel-item::before {content: \"\";position: absolute;border-left: 1px solid gray;box-sizing: border-box;top: 0;bottom: 0;left: 50%;z-index: -1;}#sk-container-id-8 div.sk-parallel-item {display: flex;flex-direction: column;z-index: 1;position: relative;background-color: white;}#sk-container-id-8 div.sk-parallel-item:first-child::after {align-self: flex-end;width: 50%;}#sk-container-id-8 div.sk-parallel-item:last-child::after {align-self: flex-start;width: 50%;}#sk-container-id-8 div.sk-parallel-item:only-child::after {width: 0;}#sk-container-id-8 div.sk-dashed-wrapped {border: 1px dashed gray;margin: 0 0.4em 0.5em 0.4em;box-sizing: border-box;padding-bottom: 0.4em;background-color: white;}#sk-container-id-8 div.sk-label label {font-family: monospace;font-weight: bold;display: inline-block;line-height: 1.2em;}#sk-container-id-8 div.sk-label-container {text-align: center;}#sk-container-id-8 div.sk-container {/* jupyter's `normalize.less` sets `[hidden] { display: none; }` but bootstrap.min.css set `[hidden] { display: none !important; }` so we also need the `!important` here to be able to override the default hidden behavior on the sphinx rendered scikit-learn.org. See: https://github.com/scikit-learn/scikit-learn/issues/21755 */display: inline-block !important;position: relative;}#sk-container-id-8 div.sk-text-repr-fallback {display: none;}</style><div id=\"sk-container-id-8\" class=\"sk-top-container\"><div class=\"sk-text-repr-fallback\"><pre>GradientBoostingClassifier(max_depth=10, random_state=50)</pre><b>In a Jupyter environment, please rerun this cell to show the HTML representation or trust the notebook. <br />On GitHub, the HTML representation is unable to render, please try loading this page with nbviewer.org.</b></div><div class=\"sk-container\" hidden><div class=\"sk-item\"><div class=\"sk-estimator sk-toggleable\"><input class=\"sk-toggleable__control sk-hidden--visually\" id=\"sk-estimator-id-8\" type=\"checkbox\" checked><label for=\"sk-estimator-id-8\" class=\"sk-toggleable__label sk-toggleable__label-arrow\">GradientBoostingClassifier</label><div class=\"sk-toggleable__content\"><pre>GradientBoostingClassifier(max_depth=10, random_state=50)</pre></div></div></div></div></div>"
      ],
      "text/plain": [
       "GradientBoostingClassifier(max_depth=10, random_state=50)"
      ]
     },
     "execution_count": 22,
     "metadata": {},
     "output_type": "execute_result"
    }
   ],
   "source": [
    "from sklearn.ensemble import GradientBoostingClassifier\n",
    "\n",
    "# 创建GradientBoostingClassifier\n",
    "gb_clf = GradientBoostingClassifier(n_estimators=100, max_depth=10, random_state=50)\n",
    "\n",
    "# 计算样本权重，将不同类别的样本赋予不同的权重\n",
    "class_weights = {0: 1, 1: 10}  # 这里的权重需要根据实际情况进行调整\n",
    "\n",
    "# 拟合模型，并传入样本权重\n",
    "gb_clf.fit(X_iris_filled, y_iris, sample_weight=[class_weights[y] for y in y_iris])\n"
   ]
  },
  {
   "cell_type": "code",
   "execution_count": 23,
   "id": "282dc22c",
   "metadata": {},
   "outputs": [
    {
     "ename": "NameError",
     "evalue": "name 'plt' is not defined",
     "output_type": "error",
     "traceback": [
      "\u001b[0;31m---------------------------------------------------------------------------\u001b[0m",
      "\u001b[0;31mNameError\u001b[0m                                 Traceback (most recent call last)",
      "Cell \u001b[0;32mIn[23], line 7\u001b[0m\n\u001b[1;32m      4\u001b[0m tree \u001b[38;5;241m=\u001b[39m gb_clf\u001b[38;5;241m.\u001b[39mestimators_[\u001b[38;5;241m0\u001b[39m][\u001b[38;5;241m0\u001b[39m]\n\u001b[1;32m      6\u001b[0m \u001b[38;5;66;03m# 可视化第一棵回归树\u001b[39;00m\n\u001b[0;32m----> 7\u001b[0m plt\u001b[38;5;241m.\u001b[39mfigure(figsize\u001b[38;5;241m=\u001b[39m(\u001b[38;5;241m20\u001b[39m, \u001b[38;5;241m10\u001b[39m))\n\u001b[1;32m      8\u001b[0m plot_tree(tree, filled\u001b[38;5;241m=\u001b[39m\u001b[38;5;28;01mTrue\u001b[39;00m, feature_names\u001b[38;5;241m=\u001b[39mX_iris_filled\u001b[38;5;241m.\u001b[39mcolumns)\n\u001b[1;32m      9\u001b[0m plt\u001b[38;5;241m.\u001b[39mshow()\n",
      "\u001b[0;31mNameError\u001b[0m: name 'plt' is not defined"
     ]
    }
   ],
   "source": [
    "from sklearn.tree import plot_tree\n",
    "import os\n",
    "# 获取第一棵回归树\n",
    "tree = gb_clf.estimators_[0][0]\n",
    "\n",
    "# 可视化第一棵回归树\n",
    "plt.figure(figsize=(20, 10))\n",
    "plot_tree(tree, filled=True, feature_names=X_iris_filled.columns)\n",
    "plt.show()\n"
   ]
  },
  {
   "cell_type": "code",
   "execution_count": 24,
   "id": "89190995",
   "metadata": {},
   "outputs": [],
   "source": [
    "from sklearn.tree import export_graphviz\n",
    "import os\n",
    "\n",
    "# 设置图像输出路径，将该路径替换为你实际希望保存图像的路径\n",
    "IMAGES_PATH = \"images\"\n",
    "\n",
    "# 导出决策树可视化\n",
    "export_graphviz(\n",
    "    tree_clf,\n",
    "    out_file=os.path.join(IMAGES_PATH, \"decision_tree.dot\"),\n",
    "    feature_names=X_iris.columns,  # 使用除去目标列之外的特征列名\n",
    "    class_names=[\"合格\", \"不合格\"],  # 根据你的实际情况调整类别名称\n",
    "    rounded=True,\n",
    "    filled=True\n",
    ")\n"
   ]
  },
  {
   "cell_type": "code",
   "execution_count": 25,
   "id": "f93e90c8",
   "metadata": {
    "scrolled": false
   },
   "outputs": [
    {
     "data": {
      "image/svg+xml": [
       "<svg xmlns=\"http://www.w3.org/2000/svg\" xmlns:xlink=\"http://www.w3.org/1999/xlink\" width=\"708pt\" height=\"470pt\" viewBox=\"0.00 0.00 708.38 469.75\">\n",
       "<g id=\"graph0\" class=\"graph\" transform=\"scale(1 1) rotate(0) translate(4 465.75)\">\n",
       "<title>Tree</title>\n",
       "<polygon fill=\"white\" stroke=\"none\" points=\"-4,4 -4,-465.75 704.38,-465.75 704.38,4 -4,4\"/>\n",
       "<!-- 0 -->\n",
       "<g id=\"node1\" class=\"node\">\n",
       "<title>0</title>\n",
       "<path fill=\"#83c2ef\" stroke=\"black\" d=\"M459,-461.75C459,-461.75 287.75,-461.75 287.75,-461.75 281.75,-461.75 275.75,-455.75 275.75,-449.75 275.75,-449.75 275.75,-380.25 275.75,-380.25 275.75,-374.25 281.75,-368.25 287.75,-368.25 287.75,-368.25 459,-368.25 459,-368.25 465,-368.25 471,-374.25 471,-380.25 471,-380.25 471,-449.75 471,-449.75 471,-455.75 465,-461.75 459,-461.75\"/>\n",
       "<text text-anchor=\"middle\" x=\"373.38\" y=\"-444.45\" font-family=\"Helvetica,sans-Serif\" font-size=\"14.00\">射线复检_评定等级_Ⅱ &lt;= 0.5</text>\n",
       "<text text-anchor=\"middle\" x=\"373.38\" y=\"-424.2\" font-family=\"Helvetica,sans-Serif\" font-size=\"14.00\">gini = 0.397</text>\n",
       "<text text-anchor=\"middle\" x=\"373.38\" y=\"-409.2\" font-family=\"Helvetica,sans-Serif\" font-size=\"14.00\">samples = 675</text>\n",
       "<text text-anchor=\"middle\" x=\"373.38\" y=\"-394.2\" font-family=\"Helvetica,sans-Serif\" font-size=\"14.00\">value = [184, 491]</text>\n",
       "<text text-anchor=\"middle\" x=\"373.38\" y=\"-379.2\" font-family=\"Helvetica,sans-Serif\" font-size=\"14.00\">class = 不合格</text>\n",
       "</g>\n",
       "<!-- 1 -->\n",
       "<g id=\"node2\" class=\"node\">\n",
       "<title>1</title>\n",
       "<path fill=\"#f1bd97\" stroke=\"black\" d=\"M350.12,-332.25C350.12,-332.25 182.62,-332.25 182.62,-332.25 176.62,-332.25 170.62,-326.25 170.62,-320.25 170.62,-320.25 170.62,-250.75 170.62,-250.75 170.62,-244.75 176.62,-238.75 182.62,-238.75 182.62,-238.75 350.12,-238.75 350.12,-238.75 356.12,-238.75 362.12,-244.75 362.12,-250.75 362.12,-250.75 362.12,-320.25 362.12,-320.25 362.12,-326.25 356.12,-332.25 350.12,-332.25\"/>\n",
       "<text text-anchor=\"middle\" x=\"266.38\" y=\"-314.95\" font-family=\"Helvetica,sans-Serif\" font-size=\"14.00\">射线复检_评定等级_Ⅰ &lt;= 0.5</text>\n",
       "<text text-anchor=\"middle\" x=\"266.38\" y=\"-294.7\" font-family=\"Helvetica,sans-Serif\" font-size=\"14.00\">gini = 0.437</text>\n",
       "<text text-anchor=\"middle\" x=\"266.38\" y=\"-279.7\" font-family=\"Helvetica,sans-Serif\" font-size=\"14.00\">samples = 257</text>\n",
       "<text text-anchor=\"middle\" x=\"266.38\" y=\"-264.7\" font-family=\"Helvetica,sans-Serif\" font-size=\"14.00\">value = [174, 83]</text>\n",
       "<text text-anchor=\"middle\" x=\"266.38\" y=\"-249.7\" font-family=\"Helvetica,sans-Serif\" font-size=\"14.00\">class = 合格</text>\n",
       "</g>\n",
       "<!-- 0&#45;&gt;1 -->\n",
       "<g id=\"edge1\" class=\"edge\">\n",
       "<title>0-&gt;1</title>\n",
       "<path fill=\"none\" stroke=\"black\" d=\"M334.75,-367.97C327.32,-359.12 319.48,-349.78 311.86,-340.7\"/>\n",
       "<polygon fill=\"black\" stroke=\"black\" points=\"314.06,-338.87 304.95,-333.46 308.7,-343.37 314.06,-338.87\"/>\n",
       "<text text-anchor=\"middle\" x=\"302.77\" y=\"-351.57\" font-family=\"Helvetica,sans-Serif\" font-size=\"14.00\">True</text>\n",
       "</g>\n",
       "<!-- 6 -->\n",
       "<g id=\"node7\" class=\"node\">\n",
       "<title>6</title>\n",
       "<path fill=\"#3e9fe6\" stroke=\"black\" d=\"M569,-332.25C569,-332.25 391.75,-332.25 391.75,-332.25 385.75,-332.25 379.75,-326.25 379.75,-320.25 379.75,-320.25 379.75,-250.75 379.75,-250.75 379.75,-244.75 385.75,-238.75 391.75,-238.75 391.75,-238.75 569,-238.75 569,-238.75 575,-238.75 581,-244.75 581,-250.75 581,-250.75 581,-320.25 581,-320.25 581,-326.25 575,-332.25 569,-332.25\"/>\n",
       "<text text-anchor=\"middle\" x=\"480.38\" y=\"-314.95\" font-family=\"Helvetica,sans-Serif\" font-size=\"14.00\">超声复检_评定等级_Ⅳ &lt;= 0.5</text>\n",
       "<text text-anchor=\"middle\" x=\"480.38\" y=\"-294.7\" font-family=\"Helvetica,sans-Serif\" font-size=\"14.00\">gini = 0.047</text>\n",
       "<text text-anchor=\"middle\" x=\"480.38\" y=\"-279.7\" font-family=\"Helvetica,sans-Serif\" font-size=\"14.00\">samples = 418</text>\n",
       "<text text-anchor=\"middle\" x=\"480.38\" y=\"-264.7\" font-family=\"Helvetica,sans-Serif\" font-size=\"14.00\">value = [10, 408]</text>\n",
       "<text text-anchor=\"middle\" x=\"480.38\" y=\"-249.7\" font-family=\"Helvetica,sans-Serif\" font-size=\"14.00\">class = 不合格</text>\n",
       "</g>\n",
       "<!-- 0&#45;&gt;6 -->\n",
       "<g id=\"edge6\" class=\"edge\">\n",
       "<title>0-&gt;6</title>\n",
       "<path fill=\"none\" stroke=\"black\" d=\"M412,-367.97C419.43,-359.12 427.27,-349.78 434.89,-340.7\"/>\n",
       "<polygon fill=\"black\" stroke=\"black\" points=\"438.05,-343.37 441.8,-333.46 432.69,-338.87 438.05,-343.37\"/>\n",
       "<text text-anchor=\"middle\" x=\"443.98\" y=\"-351.57\" font-family=\"Helvetica,sans-Serif\" font-size=\"14.00\">False</text>\n",
       "</g>\n",
       "<!-- 2 -->\n",
       "<g id=\"node3\" class=\"node\">\n",
       "<title>2</title>\n",
       "<path fill=\"#e68843\" stroke=\"black\" d=\"M190.75,-202.75C190.75,-202.75 12,-202.75 12,-202.75 6,-202.75 0,-196.75 0,-190.75 0,-190.75 0,-121.25 0,-121.25 0,-115.25 6,-109.25 12,-109.25 12,-109.25 190.75,-109.25 190.75,-109.25 196.75,-109.25 202.75,-115.25 202.75,-121.25 202.75,-121.25 202.75,-190.75 202.75,-190.75 202.75,-196.75 196.75,-202.75 190.75,-202.75\"/>\n",
       "<text text-anchor=\"middle\" x=\"101.38\" y=\"-185.45\" font-family=\"Helvetica,sans-Serif\" font-size=\"14.00\">开挖_管顶高程(M) &lt;= 136.225</text>\n",
       "<text text-anchor=\"middle\" x=\"101.38\" y=\"-165.2\" font-family=\"Helvetica,sans-Serif\" font-size=\"14.00\">gini = 0.094</text>\n",
       "<text text-anchor=\"middle\" x=\"101.38\" y=\"-150.2\" font-family=\"Helvetica,sans-Serif\" font-size=\"14.00\">samples = 183</text>\n",
       "<text text-anchor=\"middle\" x=\"101.38\" y=\"-135.2\" font-family=\"Helvetica,sans-Serif\" font-size=\"14.00\">value = [174, 9]</text>\n",
       "<text text-anchor=\"middle\" x=\"101.38\" y=\"-120.2\" font-family=\"Helvetica,sans-Serif\" font-size=\"14.00\">class = 合格</text>\n",
       "</g>\n",
       "<!-- 1&#45;&gt;2 -->\n",
       "<g id=\"edge2\" class=\"edge\">\n",
       "<title>1-&gt;2</title>\n",
       "<path fill=\"none\" stroke=\"black\" d=\"M206.81,-238.47C194.73,-229.14 181.94,-219.26 169.6,-209.72\"/>\n",
       "<polygon fill=\"black\" stroke=\"black\" points=\"172.19,-206.52 162.13,-203.18 167.91,-212.06 172.19,-206.52\"/>\n",
       "</g>\n",
       "<!-- 5 -->\n",
       "<g id=\"node6\" class=\"node\">\n",
       "<title>5</title>\n",
       "<path fill=\"#399de5\" stroke=\"black\" d=\"M314,-192.62C314,-192.62 232.75,-192.62 232.75,-192.62 226.75,-192.62 220.75,-186.62 220.75,-180.62 220.75,-180.62 220.75,-131.38 220.75,-131.38 220.75,-125.38 226.75,-119.38 232.75,-119.38 232.75,-119.38 314,-119.38 314,-119.38 320,-119.38 326,-125.38 326,-131.38 326,-131.38 326,-180.62 326,-180.62 326,-186.62 320,-192.62 314,-192.62\"/>\n",
       "<text text-anchor=\"middle\" x=\"273.38\" y=\"-175.32\" font-family=\"Helvetica,sans-Serif\" font-size=\"14.00\">gini = 0.0</text>\n",
       "<text text-anchor=\"middle\" x=\"273.38\" y=\"-160.32\" font-family=\"Helvetica,sans-Serif\" font-size=\"14.00\">samples = 74</text>\n",
       "<text text-anchor=\"middle\" x=\"273.38\" y=\"-145.32\" font-family=\"Helvetica,sans-Serif\" font-size=\"14.00\">value = [0, 74]</text>\n",
       "<text text-anchor=\"middle\" x=\"273.38\" y=\"-130.32\" font-family=\"Helvetica,sans-Serif\" font-size=\"14.00\">class = 不合格</text>\n",
       "</g>\n",
       "<!-- 1&#45;&gt;5 -->\n",
       "<g id=\"edge5\" class=\"edge\">\n",
       "<title>1-&gt;5</title>\n",
       "<path fill=\"none\" stroke=\"black\" d=\"M268.9,-238.47C269.52,-227.24 270.18,-215.2 270.8,-203.93\"/>\n",
       "<polygon fill=\"black\" stroke=\"black\" points=\"274.35,-204.14 271.4,-193.96 267.36,-203.75 274.35,-204.14\"/>\n",
       "</g>\n",
       "<!-- 3 -->\n",
       "<g id=\"node4\" class=\"node\">\n",
       "<title>3</title>\n",
       "<path fill=\"#399de5\" stroke=\"black\" d=\"M139,-73.25C139,-73.25 57.75,-73.25 57.75,-73.25 51.75,-73.25 45.75,-67.25 45.75,-61.25 45.75,-61.25 45.75,-12 45.75,-12 45.75,-6 51.75,0 57.75,0 57.75,0 139,0 139,0 145,0 151,-6 151,-12 151,-12 151,-61.25 151,-61.25 151,-67.25 145,-73.25 139,-73.25\"/>\n",
       "<text text-anchor=\"middle\" x=\"98.38\" y=\"-55.95\" font-family=\"Helvetica,sans-Serif\" font-size=\"14.00\">gini = 0.0</text>\n",
       "<text text-anchor=\"middle\" x=\"98.38\" y=\"-40.95\" font-family=\"Helvetica,sans-Serif\" font-size=\"14.00\">samples = 1</text>\n",
       "<text text-anchor=\"middle\" x=\"98.38\" y=\"-25.95\" font-family=\"Helvetica,sans-Serif\" font-size=\"14.00\">value = [0, 1]</text>\n",
       "<text text-anchor=\"middle\" x=\"98.38\" y=\"-10.95\" font-family=\"Helvetica,sans-Serif\" font-size=\"14.00\">class = 不合格</text>\n",
       "</g>\n",
       "<!-- 2&#45;&gt;3 -->\n",
       "<g id=\"edge3\" class=\"edge\">\n",
       "<title>2-&gt;3</title>\n",
       "<path fill=\"none\" stroke=\"black\" d=\"M100.2,-108.95C99.99,-100.82 99.77,-92.36 99.57,-84.22\"/>\n",
       "<polygon fill=\"black\" stroke=\"black\" points=\"103.04,-84.29 99.29,-74.38 96.05,-84.47 103.04,-84.29\"/>\n",
       "</g>\n",
       "<!-- 4 -->\n",
       "<g id=\"node5\" class=\"node\">\n",
       "<title>4</title>\n",
       "<path fill=\"#e68742\" stroke=\"black\" d=\"M265.88,-73.25C265.88,-73.25 180.88,-73.25 180.88,-73.25 174.88,-73.25 168.88,-67.25 168.88,-61.25 168.88,-61.25 168.88,-12 168.88,-12 168.88,-6 174.88,0 180.88,0 180.88,0 265.88,0 265.88,0 271.88,0 277.88,-6 277.88,-12 277.88,-12 277.88,-61.25 277.88,-61.25 277.88,-67.25 271.88,-73.25 265.88,-73.25\"/>\n",
       "<text text-anchor=\"middle\" x=\"223.38\" y=\"-55.95\" font-family=\"Helvetica,sans-Serif\" font-size=\"14.00\">gini = 0.084</text>\n",
       "<text text-anchor=\"middle\" x=\"223.38\" y=\"-40.95\" font-family=\"Helvetica,sans-Serif\" font-size=\"14.00\">samples = 182</text>\n",
       "<text text-anchor=\"middle\" x=\"223.38\" y=\"-25.95\" font-family=\"Helvetica,sans-Serif\" font-size=\"14.00\">value = [174, 8]</text>\n",
       "<text text-anchor=\"middle\" x=\"223.38\" y=\"-10.95\" font-family=\"Helvetica,sans-Serif\" font-size=\"14.00\">class = 合格</text>\n",
       "</g>\n",
       "<!-- 2&#45;&gt;4 -->\n",
       "<g id=\"edge4\" class=\"edge\">\n",
       "<title>2-&gt;4</title>\n",
       "<path fill=\"none\" stroke=\"black\" d=\"M149.24,-108.95C158.84,-99.71 168.89,-90.04 178.38,-80.91\"/>\n",
       "<polygon fill=\"black\" stroke=\"black\" points=\"180.43,-83.84 185.21,-74.38 175.57,-78.8 180.43,-83.84\"/>\n",
       "</g>\n",
       "<!-- 7 -->\n",
       "<g id=\"node8\" class=\"node\">\n",
       "<title>7</title>\n",
       "<path fill=\"#3a9ee5\" stroke=\"black\" d=\"M576.62,-202.75C576.62,-202.75 370.12,-202.75 370.12,-202.75 364.12,-202.75 358.12,-196.75 358.12,-190.75 358.12,-190.75 358.12,-121.25 358.12,-121.25 358.12,-115.25 364.12,-109.25 370.12,-109.25 370.12,-109.25 576.62,-109.25 576.62,-109.25 582.62,-109.25 588.62,-115.25 588.62,-121.25 588.62,-121.25 588.62,-190.75 588.62,-190.75 588.62,-196.75 582.62,-202.75 576.62,-202.75\"/>\n",
       "<text text-anchor=\"middle\" x=\"473.38\" y=\"-185.45\" font-family=\"Helvetica,sans-Serif\" font-size=\"14.00\">外观复检_焊口缺陷类型_无 &lt;= 0.5</text>\n",
       "<text text-anchor=\"middle\" x=\"473.38\" y=\"-165.2\" font-family=\"Helvetica,sans-Serif\" font-size=\"14.00\">gini = 0.014</text>\n",
       "<text text-anchor=\"middle\" x=\"473.38\" y=\"-150.2\" font-family=\"Helvetica,sans-Serif\" font-size=\"14.00\">samples = 411</text>\n",
       "<text text-anchor=\"middle\" x=\"473.38\" y=\"-135.2\" font-family=\"Helvetica,sans-Serif\" font-size=\"14.00\">value = [3, 408]</text>\n",
       "<text text-anchor=\"middle\" x=\"473.38\" y=\"-120.2\" font-family=\"Helvetica,sans-Serif\" font-size=\"14.00\">class = 不合格</text>\n",
       "</g>\n",
       "<!-- 6&#45;&gt;7 -->\n",
       "<g id=\"edge7\" class=\"edge\">\n",
       "<title>6-&gt;7</title>\n",
       "<path fill=\"none\" stroke=\"black\" d=\"M477.85,-238.47C477.41,-230.43 476.94,-221.99 476.49,-213.71\"/>\n",
       "<polygon fill=\"black\" stroke=\"black\" points=\"479.94,-213.76 475.9,-203.96 472.95,-214.14 479.94,-213.76\"/>\n",
       "</g>\n",
       "<!-- 10 -->\n",
       "<g id=\"node11\" class=\"node\">\n",
       "<title>10</title>\n",
       "<path fill=\"#e58139\" stroke=\"black\" d=\"M688.38,-192.62C688.38,-192.62 618.38,-192.62 618.38,-192.62 612.38,-192.62 606.38,-186.62 606.38,-180.62 606.38,-180.62 606.38,-131.38 606.38,-131.38 606.38,-125.38 612.38,-119.38 618.38,-119.38 618.38,-119.38 688.38,-119.38 688.38,-119.38 694.38,-119.38 700.38,-125.38 700.38,-131.38 700.38,-131.38 700.38,-180.62 700.38,-180.62 700.38,-186.62 694.38,-192.62 688.38,-192.62\"/>\n",
       "<text text-anchor=\"middle\" x=\"653.38\" y=\"-175.32\" font-family=\"Helvetica,sans-Serif\" font-size=\"14.00\">gini = 0.0</text>\n",
       "<text text-anchor=\"middle\" x=\"653.38\" y=\"-160.32\" font-family=\"Helvetica,sans-Serif\" font-size=\"14.00\">samples = 7</text>\n",
       "<text text-anchor=\"middle\" x=\"653.38\" y=\"-145.32\" font-family=\"Helvetica,sans-Serif\" font-size=\"14.00\">value = [7, 0]</text>\n",
       "<text text-anchor=\"middle\" x=\"653.38\" y=\"-130.32\" font-family=\"Helvetica,sans-Serif\" font-size=\"14.00\">class = 合格</text>\n",
       "</g>\n",
       "<!-- 6&#45;&gt;10 -->\n",
       "<g id=\"edge10\" class=\"edge\">\n",
       "<title>6-&gt;10</title>\n",
       "<path fill=\"none\" stroke=\"black\" d=\"M548.13,-238.45C564.42,-227.02 581.66,-214.63 597.38,-202.75 598.66,-201.78 599.95,-200.79 601.26,-199.79\"/>\n",
       "<polygon fill=\"black\" stroke=\"black\" points=\"603.18,-201.95 608.91,-193.04 598.87,-196.43 603.18,-201.95\"/>\n",
       "</g>\n",
       "<!-- 8 -->\n",
       "<g id=\"node9\" class=\"node\">\n",
       "<title>8</title>\n",
       "<path fill=\"#e58139\" stroke=\"black\" d=\"M436.38,-73.25C436.38,-73.25 366.38,-73.25 366.38,-73.25 360.38,-73.25 354.38,-67.25 354.38,-61.25 354.38,-61.25 354.38,-12 354.38,-12 354.38,-6 360.38,0 366.38,0 366.38,0 436.38,0 436.38,0 442.38,0 448.38,-6 448.38,-12 448.38,-12 448.38,-61.25 448.38,-61.25 448.38,-67.25 442.38,-73.25 436.38,-73.25\"/>\n",
       "<text text-anchor=\"middle\" x=\"401.38\" y=\"-55.95\" font-family=\"Helvetica,sans-Serif\" font-size=\"14.00\">gini = 0.0</text>\n",
       "<text text-anchor=\"middle\" x=\"401.38\" y=\"-40.95\" font-family=\"Helvetica,sans-Serif\" font-size=\"14.00\">samples = 3</text>\n",
       "<text text-anchor=\"middle\" x=\"401.38\" y=\"-25.95\" font-family=\"Helvetica,sans-Serif\" font-size=\"14.00\">value = [3, 0]</text>\n",
       "<text text-anchor=\"middle\" x=\"401.38\" y=\"-10.95\" font-family=\"Helvetica,sans-Serif\" font-size=\"14.00\">class = 合格</text>\n",
       "</g>\n",
       "<!-- 7&#45;&gt;8 -->\n",
       "<g id=\"edge8\" class=\"edge\">\n",
       "<title>7-&gt;8</title>\n",
       "<path fill=\"none\" stroke=\"black\" d=\"M445.13,-108.95C439.8,-100.27 434.24,-91.2 428.94,-82.56\"/>\n",
       "<polygon fill=\"black\" stroke=\"black\" points=\"431.52,-81.08 423.31,-74.38 425.56,-84.74 431.52,-81.08\"/>\n",
       "</g>\n",
       "<!-- 9 -->\n",
       "<g id=\"node10\" class=\"node\">\n",
       "<title>9</title>\n",
       "<path fill=\"#399de5\" stroke=\"black\" d=\"M563.88,-73.25C563.88,-73.25 478.88,-73.25 478.88,-73.25 472.88,-73.25 466.88,-67.25 466.88,-61.25 466.88,-61.25 466.88,-12 466.88,-12 466.88,-6 472.88,0 478.88,0 478.88,0 563.88,0 563.88,0 569.88,0 575.88,-6 575.88,-12 575.88,-12 575.88,-61.25 575.88,-61.25 575.88,-67.25 569.88,-73.25 563.88,-73.25\"/>\n",
       "<text text-anchor=\"middle\" x=\"521.38\" y=\"-55.95\" font-family=\"Helvetica,sans-Serif\" font-size=\"14.00\">gini = 0.0</text>\n",
       "<text text-anchor=\"middle\" x=\"521.38\" y=\"-40.95\" font-family=\"Helvetica,sans-Serif\" font-size=\"14.00\">samples = 408</text>\n",
       "<text text-anchor=\"middle\" x=\"521.38\" y=\"-25.95\" font-family=\"Helvetica,sans-Serif\" font-size=\"14.00\">value = [0, 408]</text>\n",
       "<text text-anchor=\"middle\" x=\"521.38\" y=\"-10.95\" font-family=\"Helvetica,sans-Serif\" font-size=\"14.00\">class = 不合格</text>\n",
       "</g>\n",
       "<!-- 7&#45;&gt;9 -->\n",
       "<g id=\"edge9\" class=\"edge\">\n",
       "<title>7-&gt;9</title>\n",
       "<path fill=\"none\" stroke=\"black\" d=\"M492.21,-108.95C495.64,-100.55 499.23,-91.78 502.66,-83.39\"/>\n",
       "<polygon fill=\"black\" stroke=\"black\" points=\"506.21,-84.97 506.75,-74.38 499.73,-82.32 506.21,-84.97\"/>\n",
       "</g>\n",
       "</g>\n",
       "</svg>"
      ],
      "text/plain": [
       "<IPython.core.display.SVG object>"
      ]
     },
     "metadata": {},
     "output_type": "display_data"
    }
   ],
   "source": [
    "import graphviz\n",
    "from IPython.display import display, SVG\n",
    "# 读取decision_tree.dot文件并输出为SVG图像\n",
    "graph = graphviz.Source.from_file(\"images/decision_tree.dot\", format=\"svg\")\n",
    "graph.render(\"images/decision_tree\", format=\"svg\", cleanup=True)\n",
    "# 读取并显示SVG图像\n",
    "svg_path = \"images/decision_tree.svg\"\n",
    "display(SVG(filename=svg_path))"
   ]
  },
  {
   "cell_type": "code",
   "execution_count": null,
   "id": "450cab85",
   "metadata": {},
   "outputs": [],
   "source": []
  }
 ],
 "metadata": {
  "kernelspec": {
   "display_name": "Python 3 (ipykernel)",
   "language": "python",
   "name": "python3"
  },
  "language_info": {
   "codemirror_mode": {
    "name": "ipython",
    "version": 3
   },
   "file_extension": ".py",
   "mimetype": "text/x-python",
   "name": "python",
   "nbconvert_exporter": "python",
   "pygments_lexer": "ipython3",
   "version": "3.11.3"
  }
 },
 "nbformat": 4,
 "nbformat_minor": 5
}
